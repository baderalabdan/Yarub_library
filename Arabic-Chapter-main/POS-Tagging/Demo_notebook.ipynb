{
  "nbformat": 4,
  "nbformat_minor": 0,
  "metadata": {
    "colab": {
      "name": "Demo_notebook.ipynb",
      "provenance": [],
      "collapsed_sections": []
    },
    "kernelspec": {
      "name": "python3",
      "display_name": "Python 3"
    },
    "language_info": {
      "name": "python"
    }
  },
  "cells": [
    {
      "cell_type": "code",
      "metadata": {
        "id": "9mZBw3IPIBMp"
      },
      "source": [
        "from Wrapper_Code import Pos_Tagger"
      ],
      "execution_count": 3,
      "outputs": []
    },
    {
      "cell_type": "code",
      "metadata": {
        "id": "drxK1MjPIBeJ"
      },
      "source": [
        "pos_tagger = Pos_Tagger()"
      ],
      "execution_count": 4,
      "outputs": []
    },
    {
      "cell_type": "code",
      "metadata": {
        "colab": {
          "base_uri": "https://localhost:8080/"
        },
        "id": "NJNvw-DIIBgK",
        "outputId": "dccb1634-bf79-4dab-caad-c4089efca1cf"
      },
      "source": [
        "sentence = \" محمد ذهب الى المدرسة مع اخيه و عاد\"\n",
        "output = pos_tagger.classify(sentence)\n",
        "word_tag = [(sentence.split()[i],output[i]) for i in range(len(sentence.split()))]\n",
        "print(word_tag)"
      ],
      "execution_count": 5,
      "outputs": [
        {
          "output_type": "stream",
          "text": [
            "[('محمد', 'x'), ('ذهب', 'verb'), ('الى', 'adp'), ('المدرسة', 'noun'), ('مع', 'adp'), ('اخيه', 'adj'), ('و', 'cconj'), ('عاد', 'verb')]\n"
          ],
          "name": "stdout"
        }
      ]
    },
    {
      "cell_type": "code",
      "metadata": {
        "id": "fzBlLorkIBiK"
      },
      "source": [
        ""
      ],
      "execution_count": null,
      "outputs": []
    }
  ]
}