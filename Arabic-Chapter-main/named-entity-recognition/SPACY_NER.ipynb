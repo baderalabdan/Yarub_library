{
 "cells": [
  {
   "cell_type": "code",
   "execution_count": 1,
   "metadata": {},
   "outputs": [],
   "source": [
    "import numpy as np\n",
    "import pandas as pd\n",
    "import spacy\n",
    "import random\n",
    "from pathlib import Path\n",
    "from tqdm import tqdm,trange\n",
    "import pickle\n",
    "from sklearn.metrics import f1_score\n",
    "from spacy.training.example import Example"
   ]
  },
  {
   "cell_type": "code",
   "execution_count": 2,
   "metadata": {},
   "outputs": [],
   "source": [
    "f = open('NER_data_spacy.json','rb')\n",
    "data = pickle.load(f)"
   ]
  },
  {
   "cell_type": "code",
   "execution_count": null,
   "metadata": {},
   "outputs": [],
   "source": [
    "model = None\n",
    "output_dir=Path(\"model1/\")\n",
    "n_iter=200"
   ]
  },
  {
   "cell_type": "code",
   "execution_count": null,
   "metadata": {},
   "outputs": [],
   "source": [
    "if model is not None:\n",
    "    nlp1 = spacy.load(model)  # load existing spaCy model\n",
    "    print(\"Loaded model '%s'\" % model)\n",
    "else:\n",
    "    nlp1 = spacy.blank('ar')  # create blank Language class\n",
    "    print(\"Created blank 'ar' model\")"
   ]
  },
  {
   "cell_type": "code",
   "execution_count": null,
   "metadata": {},
   "outputs": [],
   "source": [
    "@Language.component('ner')"
   ]
  },
  {
   "cell_type": "code",
   "execution_count": null,
   "metadata": {},
   "outputs": [],
   "source": [
    "if 'ner' not in nlp1.pipe_names:\n",
    "    ner = nlp1.add_pipe('ner')\n",
    "    nlp1.add_pipe(ner, last=True)\n",
    "else:\n",
    "    ner = nlp1.get_pipe('ner')"
   ]
  },
  {
   "cell_type": "code",
   "execution_count": null,
   "metadata": {},
   "outputs": [],
   "source": [
    "for _, annotations in data:\n",
    "    for ent in annotations.get('entities'):\n",
    "        ner.add_label(ent[2])\n",
    "other_pipes = [pipe for pipe in nlp1.pipe_names if pipe != 'ner']"
   ]
  },
  {
   "cell_type": "code",
   "execution_count": null,
   "metadata": {},
   "outputs": [],
   "source": [
    "with nlp1.disable_pipes(*other_pipes):  # only train NER\n",
    "    optimizer = nlp1.begin_training()\n",
    "    for itn in trange(n_iter):\n",
    "        random.shuffle(data)\n",
    "        losses = {}\n",
    "        for batch in spacy.util.minibatch(data, size=1):\n",
    "            for text, annotations in batch:\n",
    "                doc = nlp1.make_doc(text)\n",
    "                example = Example.from_dict(doc, annotations)\n",
    "                nlp1.update([example], losses=losses, drop=0.5)\n",
    "        print(losses)"
   ]
  },
  {
   "cell_type": "code",
   "execution_count": null,
   "metadata": {},
   "outputs": [],
   "source": [
    "if output_dir is not None:\n",
    "    output_dir = Path(output_dir)\n",
    "if not output_dir.exists():\n",
    "    output_dir.mkdir()\n",
    "nlp1.to_disk(output_dir)\n",
    "print(\"Saved model to\", output_dir)"
   ]
  },
  {
   "cell_type": "code",
   "execution_count": 3,
   "metadata": {},
   "outputs": [],
   "source": [
    "output_dir=Path(\"spacy_model/\")"
   ]
  },
  {
   "cell_type": "code",
   "execution_count": 4,
   "metadata": {},
   "outputs": [
    {
     "name": "stdout",
     "output_type": "stream",
     "text": [
      "Loading from spacy_model\n",
      "Entities []\n"
     ]
    }
   ],
   "source": [
    "print(\"Loading from\", output_dir)\n",
    "nlp2 = spacy.load(output_dir)\n",
    "doc = nlp2(\"مسبار ناسا البعيد يكشف همهمة غريبة من الفضاء بين النجوم\")\n",
    "print(\"Entities\", [(ent.text, ent.label_) for ent in doc.ents])"
   ]
  },
  {
   "cell_type": "code",
   "execution_count": 5,
   "metadata": {},
   "outputs": [
    {
     "name": "stdout",
     "output_type": "stream",
     "text": [
      "Entities [('جوزيه', 'person'), ('توماس', 'person'), ('نقابي', 'person'), ('سياسي', 'artwork'), ('28', 'time'), ('أبريل', 'time'), ('1863', 'time'), ('المملكة', 'location'), ('المتحدة ،', 'location'), ('5', 'time'), ('فبراير', 'time'), ('1933', 'time'), ('أستراليا', 'location')]\n"
     ]
    }
   ],
   "source": [
    "doc = nlp2(\"جوزيه توماس هو دبلوماسي و نقابي و و سياسي أسترالي ، ولد في 28 أبريل 1863 في المملكة المتحدة ، وتوفي في 5 فبراير 1933 أستراليا .\")\n",
    "print(\"Entities\", [(ent.text, ent.label_) for ent in doc.ents])"
   ]
  },
  {
   "cell_type": "code",
   "execution_count": 6,
   "metadata": {},
   "outputs": [
    {
     "name": "stdout",
     "output_type": "stream",
     "text": [
      "Entities [('جون', 'person')]\n"
     ]
    }
   ],
   "source": [
    "doc = nlp2(\"جون يحب البيت الأزرق في نهاية الشارع\")\n",
    "print(\"Entities\", [(ent.text, ent.label_) for ent in doc.ents])"
   ]
  },
  {
   "cell_type": "code",
   "execution_count": 7,
   "metadata": {},
   "outputs": [],
   "source": [
    "k = []\n",
    "l = []\n",
    "for z in range(len(data)):\n",
    "    a = [(tok.text, tok.idx, tok.ent_type_) for tok in nlp2(data[z][0])]\n",
    "    b = data[z][1]['entities']\n",
    "    d = []\n",
    "    e = []\n",
    "    f = []\n",
    "    g = []\n",
    "    h = ['']*len(a)\n",
    "    for i in a:\n",
    "        d.append(i[2])\n",
    "        e.append(i[1])\n",
    "    for i in b:\n",
    "        f.append(i[0])\n",
    "        g.append(i[2])\n",
    "    for i,j in zip(f,g):\n",
    "        h[e.index(i)] = j\n",
    "    assert len(d) == len(h)\n",
    "    k.extend(d)\n",
    "    l.extend(h)"
   ]
  },
  {
   "cell_type": "code",
   "execution_count": 8,
   "metadata": {},
   "outputs": [
    {
     "data": {
      "text/plain": [
       "0.7100269953063391"
      ]
     },
     "execution_count": 8,
     "metadata": {},
     "output_type": "execute_result"
    }
   ],
   "source": [
    "f1_score(l,k,average='macro')"
   ]
  },
  {
   "cell_type": "code",
   "execution_count": 9,
   "metadata": {},
   "outputs": [
    {
     "data": {
      "text/plain": [
       "0.9352114344709695"
      ]
     },
     "execution_count": 9,
     "metadata": {},
     "output_type": "execute_result"
    }
   ],
   "source": [
    "(sum(np.array(k) == np.array(l))) / len(k)"
   ]
  },
  {
   "cell_type": "code",
   "execution_count": null,
   "metadata": {},
   "outputs": [],
   "source": []
  }
 ],
 "metadata": {
  "kernelspec": {
   "display_name": "Python 3",
   "language": "python",
   "name": "python3"
  },
  "language_info": {
   "codemirror_mode": {
    "name": "ipython",
    "version": 3
   },
   "file_extension": ".py",
   "mimetype": "text/x-python",
   "name": "python",
   "nbconvert_exporter": "python",
   "pygments_lexer": "ipython3",
   "version": "3.7.10"
  }
 },
 "nbformat": 4,
 "nbformat_minor": 4
}
