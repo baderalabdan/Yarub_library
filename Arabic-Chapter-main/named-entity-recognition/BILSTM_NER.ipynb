{
  "nbformat": 4,
  "nbformat_minor": 0,
  "metadata": {
    "kernelspec": {
      "display_name": "Python 3",
      "language": "python",
      "name": "python3"
    },
    "language_info": {
      "codemirror_mode": {
        "name": "ipython",
        "version": 3
      },
      "file_extension": ".py",
      "mimetype": "text/x-python",
      "name": "python",
      "nbconvert_exporter": "python",
      "pygments_lexer": "ipython3",
      "version": "3.7.10"
    },
    "colab": {
      "name": "BILSTM_NER.ipynb",
      "provenance": []
    },
    "accelerator": "GPU"
  },
  "cells": [
    {
      "cell_type": "code",
      "metadata": {
        "colab": {
          "base_uri": "https://localhost:8080/"
        },
        "id": "yt-D6cmtIpHm",
        "outputId": "6560f66d-f9c3-4b1e-d033-d5eaaebe8aa2"
      },
      "source": [
        "from google.colab import drive\n",
        "drive.mount('/content/drive')"
      ],
      "execution_count": 2,
      "outputs": [
        {
          "output_type": "stream",
          "text": [
            "Drive already mounted at /content/drive; to attempt to forcibly remount, call drive.mount(\"/content/drive\", force_remount=True).\n"
          ],
          "name": "stdout"
        }
      ]
    },
    {
      "cell_type": "code",
      "metadata": {
        "colab": {
          "base_uri": "https://localhost:8080/"
        },
        "id": "8C5oED4GIIre",
        "outputId": "3158dd42-d4a5-4ec5-9a03-075d9b9711a4"
      },
      "source": [
        "!wget https://bakrianoo.ewr1.vultrobjects.com/aravec/full_grams_cbow_300_twitter.zip\n",
        "!unzip full_grams_cbow_300_twitter.zip"
      ],
      "execution_count": 2,
      "outputs": [
        {
          "output_type": "stream",
          "text": [
            "--2021-06-15 19:26:29--  https://bakrianoo.ewr1.vultrobjects.com/aravec/full_grams_cbow_300_twitter.zip\n",
            "Resolving bakrianoo.ewr1.vultrobjects.com (bakrianoo.ewr1.vultrobjects.com)... 108.61.0.122, 2001:19f0:0:22::100\n",
            "Connecting to bakrianoo.ewr1.vultrobjects.com (bakrianoo.ewr1.vultrobjects.com)|108.61.0.122|:443... connected.\n",
            "HTTP request sent, awaiting response... 200 OK\n",
            "Length: 3325529808 (3.1G) [application/zip]\n",
            "Saving to: ‘full_grams_cbow_300_twitter.zip’\n",
            "\n",
            "full_grams_cbow_300 100%[===================>]   3.10G  40.9MB/s    in 52s     \n",
            "\n",
            "2021-06-15 19:27:22 (60.5 MB/s) - ‘full_grams_cbow_300_twitter.zip’ saved [3325529808/3325529808]\n",
            "\n",
            "Archive:  full_grams_cbow_300_twitter.zip\n",
            "  inflating: full_grams_cbow_300_twitter.mdl  \n",
            "  inflating: full_grams_cbow_300_twitter.mdl.trainables.syn1neg.npy  \n",
            "  inflating: full_grams_cbow_300_twitter.mdl.wv.vectors.npy  \n"
          ],
          "name": "stdout"
        }
      ]
    },
    {
      "cell_type": "markdown",
      "metadata": {
        "id": "C0FV82oeIBX4"
      },
      "source": [
        "# BILSTM - MAX_LEN 500 - EMBEDDINGS own - TEST_ACC 99.78"
      ]
    },
    {
      "cell_type": "code",
      "metadata": {
        "id": "OMJ6kP-GIBX8"
      },
      "source": [
        "import pandas as pd\n",
        "import os\n",
        "import numpy as np\n",
        "import matplotlib.pyplot as plt\n",
        "from keras.preprocessing.sequence import pad_sequences\n",
        "from keras.utils.np_utils import to_categorical\n",
        "from keras.preprocessing.text import Tokenizer\n",
        "from keras.models import Sequential,Model\n",
        "from keras.layers import Input,Embedding,Bidirectional,LSTM,TimeDistributed,Dense\n",
        "from keras.callbacks import ModelCheckpoint, EarlyStopping, Callback, TensorBoard,ReduceLROnPlateau"
      ],
      "execution_count": 3,
      "outputs": []
    },
    {
      "cell_type": "markdown",
      "metadata": {
        "id": "WVBHQSXcIBX9"
      },
      "source": [
        "## PreProcess Data"
      ]
    },
    {
      "cell_type": "code",
      "metadata": {
        "id": "vGg3pgrLIBX9"
      },
      "source": [
        "def process_csv(csv):\n",
        "    df = pd.read_csv(csv,index_col=False)[['Sentence #','Arabic','Tag','POS']]\n",
        "    df=df.drop_duplicates()\n",
        "    df['Arabic'] = df['Arabic'].astype(str)\n",
        "    df1 = pd.DataFrame(columns = ['sentence','pos','tag'])\n",
        "    for i in df['Sentence #'].unique():\n",
        "        s = df[df['Sentence #'] == i]['Arabic'].tolist()\n",
        "        p = df[df['Sentence #'] == i]['POS'].tolist()\n",
        "        t = df[df['Sentence #'] == i]['Tag'].tolist()\n",
        "        df1 = df1.append({'sentence': s, 'pos': p, 'tag':t}, ignore_index=True)\n",
        "        if len(s) == len(p) and len(p) == len(t):\n",
        "            continue\n",
        "        else:\n",
        "            print(i)\n",
        "    return df1"
      ],
      "execution_count": 4,
      "outputs": []
    },
    {
      "cell_type": "code",
      "metadata": {
        "colab": {
          "base_uri": "https://localhost:8080/",
          "height": 195
        },
        "id": "wEL_xKTPIBX-",
        "outputId": "83f890a2-7efb-4541-93e2-5ca2e90dd498"
      },
      "source": [
        "csvs = os.listdir('/content/drive/MyDrive/NER_Arabic/Dataset/')\n",
        "final_df = pd.DataFrame()\n",
        "for csv in csvs:\n",
        "    df = process_csv('/content/drive/MyDrive/NER_Arabic/Dataset/'+csv)\n",
        "    final_df = pd.concat([final_df,df])\n",
        "final_df = final_df.sample(frac = 1)\n",
        "final_df.reset_index(drop=True, inplace=True)\n",
        "final_df.head()"
      ],
      "execution_count": 5,
      "outputs": [
        {
          "output_type": "execute_result",
          "data": {
            "text/html": [
              "<div>\n",
              "<style scoped>\n",
              "    .dataframe tbody tr th:only-of-type {\n",
              "        vertical-align: middle;\n",
              "    }\n",
              "\n",
              "    .dataframe tbody tr th {\n",
              "        vertical-align: top;\n",
              "    }\n",
              "\n",
              "    .dataframe thead th {\n",
              "        text-align: right;\n",
              "    }\n",
              "</style>\n",
              "<table border=\"1\" class=\"dataframe\">\n",
              "  <thead>\n",
              "    <tr style=\"text-align: right;\">\n",
              "      <th></th>\n",
              "      <th>sentence</th>\n",
              "      <th>pos</th>\n",
              "      <th>tag</th>\n",
              "    </tr>\n",
              "  </thead>\n",
              "  <tbody>\n",
              "    <tr>\n",
              "      <th>0</th>\n",
              "      <td>[أخبار, منافذ, في, ال, متحد, تنص على, نكون, ال...</td>\n",
              "      <td>[NNP, NNS, IN, DT, NNP, NNPS, VBP, VBG, IN, NN...</td>\n",
              "      <td>[O, O, O, O, B-geo, I-geo, O, O, O, B-per, I-p...</td>\n",
              "    </tr>\n",
              "    <tr>\n",
              "      <th>1</th>\n",
              "      <td>[ال, خاص, ملعب تنس, في, بلغراد, الاثنين, حكم, ...</td>\n",
              "      <td>[DT, JJ, NN, IN, NNP, NNP, VBD, NNS, VBG, CD, ...</td>\n",
              "      <td>[O, O, O, O, B-geo, B-tim, O, O, O, O, O, O, O...</td>\n",
              "    </tr>\n",
              "    <tr>\n",
              "      <th>2</th>\n",
              "      <td>[ال, خماسي الاضلاع, يقول, هو - هي, لديها, أ, ن...</td>\n",
              "      <td>[DT, NNP, VBZ, PRP, VBZ, DT, RB, VBN, NN, TO, ...</td>\n",
              "      <td>[O, B-org, O, O, O, O, O, O, O, O, O, O, O, O,...</td>\n",
              "    </tr>\n",
              "    <tr>\n",
              "      <th>3</th>\n",
              "      <td>[Loading..., يقول, ال, Loading..., هو, Loading...</td>\n",
              "      <td>[NNP, VBZ, DT, NN, VBZ, VBN, TO, VB, JJ, JJ, N...</td>\n",
              "      <td>[B-org, O, O, O, O, O, O, O, B-gpe, O, O, O, O]</td>\n",
              "    </tr>\n",
              "    <tr>\n",
              "      <th>4</th>\n",
              "      <td>[سلطات, لديك, مختوم, ال, قرية, إيقاف, ،, مع, ش...</td>\n",
              "      <td>[NNS, VBP, VBN, DT, NN, RP, ,, IN, NN, VBG, NN...</td>\n",
              "      <td>[O, O, O, O, O, O, O, O, O, O, O, O, O, O, O, ...</td>\n",
              "    </tr>\n",
              "  </tbody>\n",
              "</table>\n",
              "</div>"
            ],
            "text/plain": [
              "                                            sentence  ...                                                tag\n",
              "0  [أخبار, منافذ, في, ال, متحد, تنص على, نكون, ال...  ...  [O, O, O, O, B-geo, I-geo, O, O, O, B-per, I-p...\n",
              "1  [ال, خاص, ملعب تنس, في, بلغراد, الاثنين, حكم, ...  ...  [O, O, O, O, B-geo, B-tim, O, O, O, O, O, O, O...\n",
              "2  [ال, خماسي الاضلاع, يقول, هو - هي, لديها, أ, ن...  ...  [O, B-org, O, O, O, O, O, O, O, O, O, O, O, O,...\n",
              "3  [Loading..., يقول, ال, Loading..., هو, Loading...  ...    [B-org, O, O, O, O, O, O, O, B-gpe, O, O, O, O]\n",
              "4  [سلطات, لديك, مختوم, ال, قرية, إيقاف, ،, مع, ش...  ...  [O, O, O, O, O, O, O, O, O, O, O, O, O, O, O, ...\n",
              "\n",
              "[5 rows x 3 columns]"
            ]
          },
          "metadata": {
            "tags": []
          },
          "execution_count": 5
        }
      ]
    },
    {
      "cell_type": "code",
      "metadata": {
        "id": "i8v3IpJwIBX-"
      },
      "source": [
        "embedding_dim = 300\n",
        "MAX_SEQUENCE_LENGTH = 500#max([len(final_df['sentence'][i]) for i in range(len(final_df))])"
      ],
      "execution_count": 6,
      "outputs": []
    },
    {
      "cell_type": "code",
      "metadata": {
        "id": "zdE4vaZ1IBX_"
      },
      "source": [
        "x_tokenizer = Tokenizer(oov_token = \"<OOV>\")                    \n",
        "x_tokenizer.fit_on_texts(final_df['sentence'].tolist())  \n",
        "VOCABULARY_SIZE = len(x_tokenizer.word_index) + 1                  \n",
        "x = x_tokenizer.texts_to_sequences(final_df['sentence'].tolist()) "
      ],
      "execution_count": 7,
      "outputs": []
    },
    {
      "cell_type": "code",
      "metadata": {
        "id": "V6KwP-ExIBX_"
      },
      "source": [
        "y_tokenizer = Tokenizer()\n",
        "y_tokenizer.fit_on_texts(final_df['tag'].tolist())\n",
        "y = y_tokenizer.texts_to_sequences(final_df['tag'].tolist())"
      ],
      "execution_count": 8,
      "outputs": []
    },
    {
      "cell_type": "code",
      "metadata": {
        "id": "-oYp2RIvIBYA"
      },
      "source": [
        "x = pad_sequences(x, maxlen=MAX_SEQUENCE_LENGTH, padding='post', truncating='post')\n",
        "y = pad_sequences(y, maxlen=MAX_SEQUENCE_LENGTH, padding='post', truncating='post')\n",
        "y = to_categorical(y)"
      ],
      "execution_count": 9,
      "outputs": []
    },
    {
      "cell_type": "code",
      "metadata": {
        "id": "TETQ2iR0IBYA"
      },
      "source": [
        "x_train = np.array(x[:int(len(x)*0.7)])\n",
        "x_val = np.array(x[int(len(x)*0.7):int(len(x)*0.9)])\n",
        "x_test = np.array(x[int(len(x)*0.9):])\n",
        "assert len(x_train)+len(x_val)+len(x_test) == len(x)"
      ],
      "execution_count": 10,
      "outputs": []
    },
    {
      "cell_type": "code",
      "metadata": {
        "id": "eU49jJ_4IBYA"
      },
      "source": [
        "y_train = np.array(y[:int(len(y)*0.7)])\n",
        "y_val = np.array(y[int(len(y)*0.7):int(len(y)*0.9)])\n",
        "y_test = np.array(y[int(len(y)*0.9):])\n",
        "assert len(y_train)+len(y_val)+len(y_test) == len(y)"
      ],
      "execution_count": 11,
      "outputs": []
    },
    {
      "cell_type": "code",
      "metadata": {
        "colab": {
          "base_uri": "https://localhost:8080/"
        },
        "id": "jhryrx6xIBYB",
        "outputId": "82c5b673-3c68-4524-e09f-4ad40e3cc067"
      },
      "source": [
        "print(\"Training data shape (x y) \", x_train.shape,y_train.shape)\n",
        "print(\"Validation data shape (x y) \", x_val.shape,y_val.shape)\n",
        "print(\"Test data shape (x y) \", x_test.shape,y_test.shape)"
      ],
      "execution_count": 12,
      "outputs": [
        {
          "output_type": "stream",
          "text": [
            "Training data shape (x y)  (33571, 500) (33571, 500, 18)\n",
            "Validation data shape (x y)  (9592, 500) (9592, 500, 18)\n",
            "Test data shape (x y)  (4796, 500) (4796, 500, 18)\n"
          ],
          "name": "stdout"
        }
      ]
    },
    {
      "cell_type": "markdown",
      "metadata": {
        "id": "J6sNsDerIBYB"
      },
      "source": [
        "## Embedding Matrix"
      ]
    },
    {
      "cell_type": "code",
      "metadata": {
        "id": "H_LemwXLIBYB"
      },
      "source": [
        "#import requests, zipfile\n",
        "#from io import BytesIO\n",
        "#response = requests.get(\"https://bakrianoo.ewr1.vultrobjects.com/aravec/full_grams_cbow_300_twitter.zip\")\n",
        "#zipDocument = zipfile.ZipFile(BytesIO(response.content))\n",
        "#zipDocument.extractall()"
      ],
      "execution_count": 13,
      "outputs": []
    },
    {
      "cell_type": "code",
      "metadata": {
        "id": "Y29xjPWkIBYC"
      },
      "source": [
        "import gensim\n",
        "embedding_model = gensim.models.Word2Vec.load('full_grams_cbow_300_twitter.mdl')\n",
        "embeddings = {}\n",
        "for word,vector in zip(embedding_model.wv.vocab,embedding_model.wv.vectors):\n",
        "    coefs = np.array(vector, dtype='float32')\n",
        "    embeddings[word] = coefs\n",
        "embeddings_weights = np.zeros((VOCABULARY_SIZE, embedding_dim))\n",
        "for word, i in x_tokenizer.word_index.items():\n",
        "    embedding_vector = embeddings.get(word)\n",
        "    if embedding_vector is not None:\n",
        "        embeddings_weights[i] = embedding_vector"
      ],
      "execution_count": 14,
      "outputs": []
    },
    {
      "cell_type": "markdown",
      "metadata": {
        "id": "QDAJE7GjIBYC"
      },
      "source": [
        "## Create Model"
      ]
    },
    {
      "cell_type": "code",
      "metadata": {
        "colab": {
          "base_uri": "https://localhost:8080/"
        },
        "id": "7tsRmbQLIBYC",
        "outputId": "33f5dff1-f6ed-48e8-8035-8048269dee31"
      },
      "source": [
        "tagger = Sequential()\n",
        "tagger.add(Input((MAX_SEQUENCE_LENGTH)))\n",
        "tagger.add(Embedding(input_dim = VOCABULARY_SIZE,\n",
        "                             output_dim    = embedding_dim, input_length  = MAX_SEQUENCE_LENGTH,#weights = [embeddings_matrix],\n",
        "                             trainable     = True))\n",
        "tagger.add(Bidirectional(LSTM(256, return_sequences=True)))\n",
        "tagger.add(Bidirectional(LSTM(256, return_sequences=True)))\n",
        "tagger.add(Bidirectional(LSTM(256, return_sequences=True)))\n",
        "tagger.add(Bidirectional(LSTM(256, return_sequences=True)))\n",
        "tagger.add(TimeDistributed(Dense(y.shape[2], activation='softmax')))\n",
        "tagger.compile(loss='categorical_crossentropy', optimizer='adam',metrics=['accuracy'])\n",
        "tagger.summary()"
      ],
      "execution_count": 16,
      "outputs": [
        {
          "output_type": "stream",
          "text": [
            "WARNING:tensorflow:Please add `keras.layers.InputLayer` instead of `keras.Input` to Sequential model. `keras.Input` is intended to be used by Functional model.\n",
            "Model: \"sequential_1\"\n",
            "_________________________________________________________________\n",
            "Layer (type)                 Output Shape              Param #   \n",
            "=================================================================\n",
            "embedding_1 (Embedding)      (None, 500, 300)          8382900   \n",
            "_________________________________________________________________\n",
            "bidirectional_4 (Bidirection (None, 500, 512)          1140736   \n",
            "_________________________________________________________________\n",
            "bidirectional_5 (Bidirection (None, 500, 512)          1574912   \n",
            "_________________________________________________________________\n",
            "bidirectional_6 (Bidirection (None, 500, 512)          1574912   \n",
            "_________________________________________________________________\n",
            "bidirectional_7 (Bidirection (None, 500, 512)          1574912   \n",
            "_________________________________________________________________\n",
            "time_distributed_1 (TimeDist (None, 500, 18)           9234      \n",
            "=================================================================\n",
            "Total params: 14,257,606\n",
            "Trainable params: 14,257,606\n",
            "Non-trainable params: 0\n",
            "_________________________________________________________________\n"
          ],
          "name": "stdout"
        }
      ]
    },
    {
      "cell_type": "markdown",
      "metadata": {
        "id": "Gsx_VtLOIBYD"
      },
      "source": [
        "## Train Model"
      ]
    },
    {
      "cell_type": "code",
      "metadata": {
        "id": "g0ktrgTJIBYD"
      },
      "source": [
        "checkpoint = ModelCheckpoint('model_checkpoint.h5', monitor='val_accuracy', verbose=1, save_best_only=True, mode='max')\n",
        "reducelr = ReduceLROnPlateau(monitor='val_loss', factor=0.5, patience=10, verbose=1, mode='min' , min_lr=0.0001)"
      ],
      "execution_count": 17,
      "outputs": []
    },
    {
      "cell_type": "code",
      "metadata": {
        "colab": {
          "base_uri": "https://localhost:8080/"
        },
        "id": "c95-6hytIBYD",
        "outputId": "3b692d44-d54f-480a-8e1e-9cc9c3ed1119"
      },
      "source": [
        "result = tagger.fit(x_train, y_train, validation_data= (x_val, y_val), epochs = 20, batch_size= 128, shuffle = True,callbacks=[checkpoint,reducelr])"
      ],
      "execution_count": 18,
      "outputs": [
        {
          "output_type": "stream",
          "text": [
            "Epoch 1/20\n",
            "263/263 [==============================] - 286s 1s/step - loss: 0.1542 - accuracy: 0.9655 - val_loss: 0.0305 - val_accuracy: 0.9934\n",
            "\n",
            "Epoch 00001: val_accuracy improved from -inf to 0.99343, saving model to model_checkpoint.h5\n",
            "Epoch 2/20\n",
            "263/263 [==============================] - 273s 1s/step - loss: 0.0283 - accuracy: 0.9935 - val_loss: 0.0173 - val_accuracy: 0.9951\n",
            "\n",
            "Epoch 00002: val_accuracy improved from 0.99343 to 0.99511, saving model to model_checkpoint.h5\n",
            "Epoch 3/20\n",
            "263/263 [==============================] - 274s 1s/step - loss: 0.0140 - accuracy: 0.9957 - val_loss: 0.0116 - val_accuracy: 0.9968\n",
            "\n",
            "Epoch 00003: val_accuracy improved from 0.99511 to 0.99676, saving model to model_checkpoint.h5\n",
            "Epoch 4/20\n",
            "263/263 [==============================] - 274s 1s/step - loss: 0.0091 - accuracy: 0.9974 - val_loss: 0.0089 - val_accuracy: 0.9976\n",
            "\n",
            "Epoch 00004: val_accuracy improved from 0.99676 to 0.99761, saving model to model_checkpoint.h5\n",
            "Epoch 5/20\n",
            "263/263 [==============================] - 274s 1s/step - loss: 0.0061 - accuracy: 0.9982 - val_loss: 0.0081 - val_accuracy: 0.9976\n",
            "\n",
            "Epoch 00005: val_accuracy improved from 0.99761 to 0.99762, saving model to model_checkpoint.h5\n",
            "Epoch 6/20\n",
            "263/263 [==============================] - 275s 1s/step - loss: 0.0050 - accuracy: 0.9985 - val_loss: 0.0080 - val_accuracy: 0.9978\n",
            "\n",
            "Epoch 00006: val_accuracy improved from 0.99762 to 0.99780, saving model to model_checkpoint.h5\n",
            "Epoch 7/20\n",
            "263/263 [==============================] - 274s 1s/step - loss: 0.0042 - accuracy: 0.9988 - val_loss: 0.0081 - val_accuracy: 0.9978\n",
            "\n",
            "Epoch 00007: val_accuracy improved from 0.99780 to 0.99781, saving model to model_checkpoint.h5\n",
            "Epoch 8/20\n",
            "263/263 [==============================] - 274s 1s/step - loss: 0.0035 - accuracy: 0.9989 - val_loss: 0.0088 - val_accuracy: 0.9978\n",
            "\n",
            "Epoch 00008: val_accuracy did not improve from 0.99781\n",
            "Epoch 9/20\n",
            "263/263 [==============================] - 274s 1s/step - loss: 0.0031 - accuracy: 0.9991 - val_loss: 0.0091 - val_accuracy: 0.9976\n",
            "\n",
            "Epoch 00009: val_accuracy did not improve from 0.99781\n",
            "Epoch 10/20\n",
            "263/263 [==============================] - 274s 1s/step - loss: 0.0027 - accuracy: 0.9992 - val_loss: 0.0090 - val_accuracy: 0.9978\n",
            "\n",
            "Epoch 00010: val_accuracy did not improve from 0.99781\n",
            "Epoch 11/20\n",
            "263/263 [==============================] - 274s 1s/step - loss: 0.0026 - accuracy: 0.9992 - val_loss: 0.0097 - val_accuracy: 0.9977\n",
            "\n",
            "Epoch 00011: val_accuracy did not improve from 0.99781\n",
            "Epoch 12/20\n",
            "263/263 [==============================] - 274s 1s/step - loss: 0.0022 - accuracy: 0.9993 - val_loss: 0.0102 - val_accuracy: 0.9978\n",
            "\n",
            "Epoch 00012: val_accuracy did not improve from 0.99781\n",
            "Epoch 13/20\n",
            "263/263 [==============================] - 275s 1s/step - loss: 0.0019 - accuracy: 0.9994 - val_loss: 0.0104 - val_accuracy: 0.9977\n",
            "\n",
            "Epoch 00013: val_accuracy did not improve from 0.99781\n",
            "Epoch 14/20\n",
            "263/263 [==============================] - 274s 1s/step - loss: 0.0017 - accuracy: 0.9995 - val_loss: 0.0109 - val_accuracy: 0.9977\n",
            "\n",
            "Epoch 00014: val_accuracy did not improve from 0.99781\n",
            "Epoch 15/20\n",
            "263/263 [==============================] - 274s 1s/step - loss: 0.0015 - accuracy: 0.9996 - val_loss: 0.0121 - val_accuracy: 0.9977\n",
            "\n",
            "Epoch 00015: val_accuracy did not improve from 0.99781\n",
            "\n",
            "Epoch 00015: ReduceLROnPlateau reducing learning rate to 0.0005000000237487257.\n",
            "Epoch 16/20\n",
            "263/263 [==============================] - 274s 1s/step - loss: 0.0012 - accuracy: 0.9997 - val_loss: 0.0124 - val_accuracy: 0.9976\n",
            "\n",
            "Epoch 00016: val_accuracy did not improve from 0.99781\n",
            "Epoch 17/20\n",
            "263/263 [==============================] - 274s 1s/step - loss: 9.3320e-04 - accuracy: 0.9997 - val_loss: 0.0136 - val_accuracy: 0.9976\n",
            "\n",
            "Epoch 00017: val_accuracy did not improve from 0.99781\n",
            "Epoch 18/20\n",
            "263/263 [==============================] - 274s 1s/step - loss: 7.7949e-04 - accuracy: 0.9998 - val_loss: 0.0143 - val_accuracy: 0.9977\n",
            "\n",
            "Epoch 00018: val_accuracy did not improve from 0.99781\n",
            "Epoch 19/20\n",
            "263/263 [==============================] - 274s 1s/step - loss: 7.3698e-04 - accuracy: 0.9998 - val_loss: 0.0152 - val_accuracy: 0.9976\n",
            "\n",
            "Epoch 00019: val_accuracy did not improve from 0.99781\n",
            "Epoch 20/20\n",
            "263/263 [==============================] - 275s 1s/step - loss: 6.9998e-04 - accuracy: 0.9998 - val_loss: 0.0155 - val_accuracy: 0.9976\n",
            "\n",
            "Epoch 00020: val_accuracy did not improve from 0.99781\n"
          ],
          "name": "stdout"
        }
      ]
    },
    {
      "cell_type": "markdown",
      "metadata": {
        "id": "ao51LIqEIBYE"
      },
      "source": [
        "## Evaluate Model"
      ]
    },
    {
      "cell_type": "code",
      "metadata": {
        "colab": {
          "base_uri": "https://localhost:8080/",
          "height": 573
        },
        "id": "1JzTila2IBYE",
        "outputId": "2fd6622c-ebe1-49da-88bd-3d753aa9e7d3"
      },
      "source": [
        "plt.plot(result.history['accuracy'])\n",
        "plt.plot(result.history['val_accuracy'])\n",
        "plt.title('model accuracy')\n",
        "plt.ylabel('accuracy')\n",
        "plt.xlabel('epoch')\n",
        "plt.legend(['train','val'],loc='upper left')\n",
        "plt.show()\n",
        "\n",
        "plt.plot(result.history['loss'])\n",
        "plt.plot(result.history['val_loss'])\n",
        "plt.title('model loss')\n",
        "plt.ylabel('loss')\n",
        "plt.xlabel('epoch')\n",
        "plt.legend(['train','val'],loc='upper right')\n",
        "plt.show()"
      ],
      "execution_count": 19,
      "outputs": [
        {
          "output_type": "display_data",
          "data": {
            "image/png": "[encoded data removed]",
            "text/plain": [
              "<Figure size 432x288 with 1 Axes>"
            ]
          },
          "metadata": {
            "tags": [],
            "needs_background": "light"
          }
        },
        {
          "output_type": "display_data",
          "data": {
            "image/png": "[encoded data removed]",
            "text/plain": [
              "<Figure size 432x288 with 1 Axes>"
            ]
          },
          "metadata": {
            "tags": [],
            "needs_background": "light"
          }
        }
      ]
    },
    {
      "cell_type": "code",
      "metadata": {
        "id": "ms371YVBIBYF"
      },
      "source": [
        "tagger.load_weights('model_checkpoint.h5')"
      ],
      "execution_count": 20,
      "outputs": []
    },
    {
      "cell_type": "code",
      "metadata": {
        "colab": {
          "base_uri": "https://localhost:8080/"
        },
        "id": "jjh0-yGBIBYF",
        "outputId": "ac93bada-32c3-462d-a5cc-b2101b8e2298"
      },
      "source": [
        "loss, accuracy = tagger.evaluate(x_test, y_test)\n",
        "print('Loss:',loss)\n",
        "print('Accuracy:',accuracy)"
      ],
      "execution_count": 21,
      "outputs": [
        {
          "output_type": "stream",
          "text": [
            "150/150 [==============================] - 19s 126ms/step - loss: 0.0080 - accuracy: 0.9978\n",
            "Loss: 0.007974253967404366\n",
            "Accuracy: 0.9978494644165039\n"
          ],
          "name": "stdout"
        }
      ]
    },
    {
      "cell_type": "markdown",
      "metadata": {
        "id": "XYjignMrIBYG"
      },
      "source": [
        "## Predict "
      ]
    },
    {
      "cell_type": "code",
      "metadata": {
        "id": "RuOHtBI8IBYG"
      },
      "source": [
        "def pos_tagger(sent):\n",
        "    words = sent.split()\n",
        "    words = [x_tokenizer.texts_to_sequences(words)]\n",
        "    words = pad_sequences(words, maxlen=MAX_SEQUENCE_LENGTH, padding=\"post\", truncating=\"post\")\n",
        "    words = np.squeeze(words,axis=-1)\n",
        "    tags = np.squeeze(tagger.predict(words).argmax(-1))\n",
        "    tags = [y_tokenizer.index_word[tag] for tag in tags if tag != 0]\n",
        "    return tags"
      ],
      "execution_count": 22,
      "outputs": []
    },
    {
      "cell_type": "code",
      "metadata": {
        "colab": {
          "base_uri": "https://localhost:8080/"
        },
        "id": "PtUd6CR_IBYG",
        "outputId": "f9e24773-8bc1-4750-e5d6-de0197869b04"
      },
      "source": [
        "sentence = \"جون يحب البيت الأزرق في نهاية الشارع\"\n",
        "output = pos_tagger(sentence)\n",
        "pred_tags = [(sentence.split()[i],output[i]) for i in range(len(sentence.split()))]\n",
        "for w,t in pred_tags:\n",
        "    print(w,t)"
      ],
      "execution_count": 23,
      "outputs": [
        {
          "output_type": "stream",
          "text": [
            "جون b-per\n",
            "يحب o\n",
            "البيت o\n",
            "الأزرق o\n",
            "في o\n",
            "نهاية b-tim\n",
            "الشارع o\n"
          ],
          "name": "stdout"
        }
      ]
    },
    {
      "cell_type": "code",
      "metadata": {
        "id": "8q8NKKNrIBYJ"
      },
      "source": [
        ""
      ],
      "execution_count": null,
      "outputs": []
    }
  ]
}